{
 "cells": [
  {
   "cell_type": "code",
   "execution_count": 1,
   "id": "366b5b25",
   "metadata": {},
   "outputs": [
    {
     "name": "stderr",
     "output_type": "stream",
     "text": [
      "2022-02-15 23:08:03.847 INFO    numexpr.utils: NumExpr defaulting to 8 threads.\n"
     ]
    },
    {
     "ename": "ImportError",
     "evalue": "cannot import name 'image' from 'PIL' (C:\\Users\\MadubuezeB\\Anaconda3\\lib\\site-packages\\PIL\\__init__.py)",
     "output_type": "error",
     "traceback": [
      "\u001b[1;31m---------------------------------------------------------------------------\u001b[0m",
      "\u001b[1;31mImportError\u001b[0m                               Traceback (most recent call last)",
      "\u001b[1;32mC:\\Users\\MADUBU~1\\AppData\\Local\\Temp/ipykernel_10088/4192093256.py\u001b[0m in \u001b[0;36m<module>\u001b[1;34m\u001b[0m\n\u001b[0;32m      1\u001b[0m \u001b[1;32mimport\u001b[0m \u001b[0mstreamlit\u001b[0m \u001b[1;32mas\u001b[0m \u001b[0mst\u001b[0m\u001b[1;33m\u001b[0m\u001b[1;33m\u001b[0m\u001b[0m\n\u001b[0;32m      2\u001b[0m \u001b[1;33m\u001b[0m\u001b[0m\n\u001b[1;32m----> 3\u001b[1;33m \u001b[1;32mfrom\u001b[0m \u001b[0mPIL\u001b[0m \u001b[1;32mimport\u001b[0m \u001b[0mimage\u001b[0m\u001b[1;33m\u001b[0m\u001b[1;33m\u001b[0m\u001b[0m\n\u001b[0m\u001b[0;32m      4\u001b[0m \u001b[0mimg\u001b[0m \u001b[1;33m=\u001b[0m \u001b[0mimage\u001b[0m\u001b[1;33m.\u001b[0m\u001b[0mopen\u001b[0m \u001b[1;33m(\u001b[0m\u001b[1;34m\"survey.jpg\"\u001b[0m\u001b[1;33m)\u001b[0m\u001b[1;33m\u001b[0m\u001b[1;33m\u001b[0m\u001b[0m\n\u001b[0;32m      5\u001b[0m \u001b[1;33m\u001b[0m\u001b[0m\n",
      "\u001b[1;31mImportError\u001b[0m: cannot import name 'image' from 'PIL' (C:\\Users\\MadubuezeB\\Anaconda3\\lib\\site-packages\\PIL\\__init__.py)"
     ]
    }
   ],
   "source": [
    "import streamlit as st\n",
    "\n",
    "from PIL import image\n",
    "img = image.open (\"Tracking.jpg\")\n",
    "\n",
    "st.image(img, width=500)\n",
    "\n",
    "st.title (\"SILVERLINING PACKAGE TRACKER\")\n",
    "\n",
    "st.header (\"Tracking your Package Journey\")\n",
    "\n",
    "\n",
    "Name = st.text_input(\"Input Destination address\", \"Type Here ...\")\n",
    "\n",
    "if(st.button('Submit')):\n",
    "    result = Name.title()\n",
    "    st.success(result)\n",
    "\n",
    "State = st.selectbox(\"Select State: \",\n",
    "                     ['Lagos', 'Ibadan', 'Abuja', 'Portharcourt', 'Enugu', 'Asaba', 'Kano'])\n",
    " \n",
    "\n",
    "st.text(\"Enter your Unique Package Code\")\n",
    "\n",
    "Package = st.text_input(\"Enter your Unique Package Code\", \"Type Here ...\")\n",
    "\n",
    "if(st.button('Submit')):\n",
    "    result = Package.title()\n",
    "    st.success(result)\n",
    "    \n",
    "Address = st.text_input(\"Input Destination address\", \"Type Here ...\")\n",
    "\n",
    "if(st.button('Submit')):\n",
    "    result = Address.title()\n",
    "    st.success(result)\n",
    "    \n",
    "Number = st.text_input(\"Input Phone number\", \"Type Here ...\")\n",
    "\n",
    "if(st.button('Submit')):\n",
    "    result = number.title()\n",
    "    st.success(result)\n",
    "    \n",
    "st.write ('Your package will arrive in the next 3 hours dear: ', Name)\n"
   ]
  },
  {
   "cell_type": "code",
   "execution_count": null,
   "id": "cc74d2d4",
   "metadata": {},
   "outputs": [],
   "source": []
  }
 ],
 "metadata": {
  "kernelspec": {
   "display_name": "Python 3 (ipykernel)",
   "language": "python",
   "name": "python3"
  },
  "language_info": {
   "codemirror_mode": {
    "name": "ipython",
    "version": 3
   },
   "file_extension": ".py",
   "mimetype": "text/x-python",
   "name": "python",
   "nbconvert_exporter": "python",
   "pygments_lexer": "ipython3",
   "version": "3.9.7"
  }
 },
 "nbformat": 4,
 "nbformat_minor": 5
}
