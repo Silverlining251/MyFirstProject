{
 "cells": [
  {
   "cell_type": "code",
   "execution_count": 2,
   "id": "59c7f7e2",
   "metadata": {},
   "outputs": [
    {
     "name": "stdout",
     "output_type": "stream",
     "text": [
      "2021\n"
     ]
    }
   ],
   "source": [
    "year = 2021\n",
    "print (year)"
   ]
  },
  {
   "cell_type": "code",
   "execution_count": 3,
   "id": "99d67a87",
   "metadata": {},
   "outputs": [
    {
     "name": "stdout",
     "output_type": "stream",
     "text": [
      "2022\n"
     ]
    }
   ],
   "source": [
    "year = year + 1\n",
    "print (year)"
   ]
  },
  {
   "cell_type": "code",
   "execution_count": 4,
   "id": "1eb83968",
   "metadata": {},
   "outputs": [
    {
     "name": "stdout",
     "output_type": "stream",
     "text": [
      "39\n"
     ]
    }
   ],
   "source": [
    "first = 39\n",
    "second = first \n",
    "print (second)"
   ]
  },
  {
   "cell_type": "code",
   "execution_count": 5,
   "id": "1b22b7ac",
   "metadata": {},
   "outputs": [
    {
     "name": "stdout",
     "output_type": "stream",
     "text": [
      "90 39\n"
     ]
    }
   ],
   "source": [
    "first = 90\n",
    "print (first,second)"
   ]
  },
  {
   "cell_type": "code",
   "execution_count": 7,
   "id": "9b4e3281",
   "metadata": {},
   "outputs": [
    {
     "name": "stdout",
     "output_type": "stream",
     "text": [
      "True\n"
     ]
    }
   ],
   "source": [
    "myboo = True or False\n",
    "print (myboo)"
   ]
  },
  {
   "cell_type": "code",
   "execution_count": 8,
   "id": "d9b20d89",
   "metadata": {},
   "outputs": [
    {
     "name": "stdout",
     "output_type": "stream",
     "text": [
      "False\n"
     ]
    }
   ],
   "source": [
    "myboo = True and False\n",
    "print (myboo)"
   ]
  },
  {
   "cell_type": "code",
   "execution_count": 9,
   "id": "01fc9345",
   "metadata": {},
   "outputs": [
    {
     "name": "stdout",
     "output_type": "stream",
     "text": [
      "True\n"
     ]
    }
   ],
   "source": [
    "myboo = False\n",
    "print (not myboo)"
   ]
  },
  {
   "cell_type": "code",
   "execution_count": 10,
   "id": "ee624ccd",
   "metadata": {},
   "outputs": [
    {
     "name": "stdout",
     "output_type": "stream",
     "text": [
      "Franca, Jags, Chintere, Modupe, Papa Ed, Frank\n"
     ]
    }
   ],
   "source": [
    "kantar_colleagues = 'Franca, Jags, Chintere, Modupe, Papa Ed, Frank'\n",
    "print (kantar_colleagues)"
   ]
  },
  {
   "cell_type": "code",
   "execution_count": null,
   "id": "c8e9162d",
   "metadata": {},
   "outputs": [],
   "source": [
    "print ('Frank' in kantar_colleagues)"
   ]
  },
  {
   "cell_type": "code",
   "execution_count": 11,
   "id": "be6a2643",
   "metadata": {},
   "outputs": [
    {
     "name": "stdout",
     "output_type": "stream",
     "text": [
      "['Franca', 1, 'Jags', 2, 'Chintere', 3, 'Modupe', 4, 'Papa Ed', 5, 'Frank', 6]\n"
     ]
    }
   ],
   "source": [
    "kantar_colleagues = [\"Franca\",1, \"Jags\", 2, \"Chintere\", 3, \"Modupe\",4, \"Papa Ed\",5, \"Frank\", 6]\n",
    "print (kantar_colleagues)"
   ]
  },
  {
   "cell_type": "code",
   "execution_count": 12,
   "id": "796ccb93",
   "metadata": {},
   "outputs": [
    {
     "name": "stdout",
     "output_type": "stream",
     "text": [
      "['Frank', 6]\n"
     ]
    }
   ],
   "source": [
    "print (kantar_colleagues [10:12])"
   ]
  },
  {
   "cell_type": "code",
   "execution_count": 13,
   "id": "f0754fd1",
   "metadata": {},
   "outputs": [
    {
     "name": "stdout",
     "output_type": "stream",
     "text": [
      "12\n"
     ]
    }
   ],
   "source": [
    "print (len (kantar_colleagues))"
   ]
  },
  {
   "cell_type": "code",
   "execution_count": 14,
   "id": "d24e2e30",
   "metadata": {},
   "outputs": [
    {
     "name": "stdout",
     "output_type": "stream",
     "text": [
      "\n",
      "Multi-Dimentional List: \n",
      "[['Michael', 'Godfather'], ['Chizurum', 'school']]\n"
     ]
    }
   ],
   "source": [
    "List = [['Michael', 'Godfather'], ['Chizurum', 'school']]\n",
    "print (\"\\nMulti-Dimentional List: \")\n",
    "print (List)"
   ]
  },
  {
   "cell_type": "code",
   "execution_count": 15,
   "id": "ef92e6b2",
   "metadata": {},
   "outputs": [
    {
     "name": "stdout",
     "output_type": "stream",
     "text": [
      "[['Michael', 'Godfather'], ['Chizurum', 'school']]\n"
     ]
    }
   ],
   "source": [
    "List = [['Michael', 'Godfather'], ['Chizurum', 'school']]\n",
    "print (List)"
   ]
  },
  {
   "cell_type": "code",
   "execution_count": 16,
   "id": "00e6abce",
   "metadata": {},
   "outputs": [
    {
     "name": "stdout",
     "output_type": "stream",
     "text": [
      "Accessing a Multi-Dimentional list\n",
      "Godfather\n",
      "['Chizurum', 'school'] [0]\n"
     ]
    }
   ],
   "source": [
    "print (\"Accessing a Multi-Dimentional list\")\n",
    "print (List [0][1])\n",
    "print (List [1],[0])"
   ]
  },
  {
   "cell_type": "code",
   "execution_count": 17,
   "id": "2a4a511d",
   "metadata": {},
   "outputs": [
    {
     "name": "stdout",
     "output_type": "stream",
     "text": [
      "Initial blank list: \n",
      "[]\n"
     ]
    }
   ],
   "source": [
    "List = []\n",
    "print (\"Initial blank list: \")\n",
    "print (List)"
   ]
  },
  {
   "cell_type": "code",
   "execution_count": 18,
   "id": "5dbf9dc7",
   "metadata": {},
   "outputs": [
    {
     "name": "stdout",
     "output_type": "stream",
     "text": [
      "\n",
      "List of Baby necessities:\n",
      "['food', 'Diapers', 'Feeders', 'Clothes']\n"
     ]
    }
   ],
   "source": [
    "List.append (\"food\")\n",
    "List.append (\"Diapers\")\n",
    "List.append (\"Feeders\")\n",
    "List.append (\"Clothes\")\n",
    "print (\"\\nList of Baby necessities:\")\n",
    "print (List)"
   ]
  },
  {
   "cell_type": "code",
   "execution_count": 19,
   "id": "2dd5d886",
   "metadata": {},
   "outputs": [
    {
     "ename": "SyntaxError",
     "evalue": "invalid syntax (Temp/ipykernel_30692/618351232.py, line 1)",
     "output_type": "error",
     "traceback": [
      "\u001b[1;36m  File \u001b[1;32m\"C:\\Users\\MADUBU~1\\AppData\\Local\\Temp/ipykernel_30692/618351232.py\"\u001b[1;36m, line \u001b[1;32m1\u001b[0m\n\u001b[1;33m    for i in range (1,3)\u001b[0m\n\u001b[1;37m                        ^\u001b[0m\n\u001b[1;31mSyntaxError\u001b[0m\u001b[1;31m:\u001b[0m invalid syntax\n"
     ]
    }
   ],
   "source": [
    "for i in range (1,3)\n",
    "    List append(i)\n",
    "print (\"\\nList of Baby necessities\")\n",
    "print (List)"
   ]
  },
  {
   "cell_type": "code",
   "execution_count": 20,
   "id": "28931740",
   "metadata": {},
   "outputs": [
    {
     "name": "stdout",
     "output_type": "stream",
     "text": [
      "Sum of all elements in the number:  56\n"
     ]
    }
   ],
   "source": [
    "total = 20\n",
    "numbers = [1,2,3,4,5,6,7,8]\n",
    "for kantar_colleagues in range (0, len(numbers)):\n",
    "    total = total + numbers[kantar_colleagues]\n",
    "\n",
    "print (\"Sum of all elements in the number: \", total)"
   ]
  },
  {
   "cell_type": "code",
   "execution_count": 21,
   "id": "f807b2f7",
   "metadata": {},
   "outputs": [
    {
     "ename": "TypeError",
     "evalue": "sort() takes at most 2 arguments (5 given)",
     "output_type": "error",
     "traceback": [
      "\u001b[1;31m---------------------------------------------------------------------------\u001b[0m",
      "\u001b[1;31mTypeError\u001b[0m                                 Traceback (most recent call last)",
      "\u001b[1;32mC:\\Users\\MADUBU~1\\AppData\\Local\\Temp/ipykernel_30692/3217180392.py\u001b[0m in \u001b[0;36m<module>\u001b[1;34m\u001b[0m\n\u001b[0;32m      1\u001b[0m \u001b[0mBag\u001b[0m \u001b[1;33m=\u001b[0m \u001b[1;33m[\u001b[0m\u001b[1;36m20\u001b[0m\u001b[1;33m,\u001b[0m\u001b[1;36m32\u001b[0m\u001b[1;33m,\u001b[0m\u001b[1;36m12\u001b[0m\u001b[1;33m,\u001b[0m\u001b[1;36m47\u001b[0m\u001b[1;33m,\u001b[0m\u001b[1;36m11\u001b[0m\u001b[1;33m]\u001b[0m\u001b[1;33m\u001b[0m\u001b[1;33m\u001b[0m\u001b[0m\n\u001b[1;32m----> 2\u001b[1;33m \u001b[0mBag\u001b[0m\u001b[1;33m.\u001b[0m\u001b[0msort\u001b[0m\u001b[1;33m(\u001b[0m\u001b[1;36m11\u001b[0m\u001b[1;33m,\u001b[0m\u001b[1;36m12\u001b[0m\u001b[1;33m,\u001b[0m\u001b[1;36m20\u001b[0m\u001b[1;33m,\u001b[0m\u001b[1;36m32\u001b[0m\u001b[1;33m,\u001b[0m\u001b[1;36m47\u001b[0m\u001b[1;33m)\u001b[0m\u001b[1;33m\u001b[0m\u001b[1;33m\u001b[0m\u001b[0m\n\u001b[0m\u001b[0;32m      3\u001b[0m \u001b[0mprint\u001b[0m \u001b[1;33m(\u001b[0m\u001b[1;34m\"Largest number in the list is:\"\u001b[0m\u001b[1;33m,\u001b[0m \u001b[0mBag\u001b[0m \u001b[1;33m[\u001b[0m\u001b[1;33m-\u001b[0m\u001b[1;36m1\u001b[0m\u001b[1;33m]\u001b[0m\u001b[1;33m)\u001b[0m\u001b[1;33m\u001b[0m\u001b[1;33m\u001b[0m\u001b[0m\n",
      "\u001b[1;31mTypeError\u001b[0m: sort() takes at most 2 arguments (5 given)"
     ]
    }
   ],
   "source": [
    "Bag = [20,32,12,47,11]\n",
    "Bag.sort(11,12,20,32,47)\n",
    "print (\"Largest number in the list is:\", Bag [-1])"
   ]
  },
  {
   "cell_type": "code",
   "execution_count": 22,
   "id": "1a50e13d",
   "metadata": {},
   "outputs": [
    {
     "name": "stdout",
     "output_type": "stream",
     "text": [
      "Largest number in the list is: 11\n"
     ]
    }
   ],
   "source": [
    "print (\"Largest number in the list is:\", Bag [-1])"
   ]
  },
  {
   "cell_type": "code",
   "execution_count": 24,
   "id": "03fb121b",
   "metadata": {},
   "outputs": [
    {
     "name": "stdout",
     "output_type": "stream",
     "text": [
      "How many numbers?5\n",
      "Enter number: 45\n",
      "Enter number: 16\n",
      "Enter number: 78\n",
      "Enter number: 32\n",
      "Enter number: 5\n",
      "Largest number of the list is : 78\n"
     ]
    }
   ],
   "source": [
    "Bag = []\n",
    "\n",
    "count = int(input (\"How many numbers?\"))\n",
    "for n in range(count):\n",
    "    number = int(input ('Enter number: '))\n",
    "    Bag.append(number)\n",
    "    \n",
    "print (\"Largest number of the list is :\", max(Bag))"
   ]
  },
  {
   "cell_type": "code",
   "execution_count": 2,
   "id": "c40795a2",
   "metadata": {},
   "outputs": [
    {
     "name": "stdout",
     "output_type": "stream",
     "text": [
      "WELCOME TO AJ PHARMARCY\n",
      "Drug name:\n",
      "Combatrine\n",
      "Quantity purchased:\n",
      "2\n",
      "Price per Drug:\n",
      "2500\n",
      "Would you like to enter another Drug?\n",
      "Type 'c' for continue or 'q' to quit:\n",
      "c\n",
      "Drug name:\n",
      "vitamin c\n",
      "Quantity purchased:\n",
      "3\n",
      "Price per Drug:\n",
      "400\n",
      "Would you like to enter another Drug?\n",
      "Type 'c' for continue or 'q' to quit:\n",
      "q\n"
     ]
    },
    {
     "ename": "NameError",
     "evalue": "name 'grand_total' is not defined",
     "output_type": "error",
     "traceback": [
      "\u001b[1;31m---------------------------------------------------------------------------\u001b[0m",
      "\u001b[1;31mNameError\u001b[0m                                 Traceback (most recent call last)",
      "\u001b[1;32mC:\\Users\\MADUBU~1\\AppData\\Local\\Temp/ipykernel_18892/1959226181.py\u001b[0m in \u001b[0;36m<module>\u001b[1;34m\u001b[0m\n\u001b[0;32m     19\u001b[0m \u001b[1;32mfor\u001b[0m \u001b[0mindex\u001b[0m\u001b[1;33m,\u001b[0m \u001b[0mitem\u001b[0m \u001b[1;32min\u001b[0m \u001b[0menumerate\u001b[0m\u001b[1;33m(\u001b[0m\u001b[0mDrug_history\u001b[0m\u001b[1;33m)\u001b[0m\u001b[1;33m:\u001b[0m\u001b[1;33m\u001b[0m\u001b[1;33m\u001b[0m\u001b[0m\n\u001b[0;32m     20\u001b[0m     \u001b[0mitem_total\u001b[0m \u001b[1;33m=\u001b[0m \u001b[0mitem\u001b[0m \u001b[1;33m[\u001b[0m\u001b[1;34m'number'\u001b[0m\u001b[1;33m]\u001b[0m \u001b[1;33m*\u001b[0m \u001b[0mitem\u001b[0m \u001b[1;33m[\u001b[0m\u001b[1;34m'price'\u001b[0m\u001b[1;33m]\u001b[0m\u001b[1;33m\u001b[0m\u001b[1;33m\u001b[0m\u001b[0m\n\u001b[1;32m---> 21\u001b[1;33m     \u001b[0mGrand_total\u001b[0m \u001b[1;33m=\u001b[0m \u001b[0mgrand_total\u001b[0m \u001b[1;33m+\u001b[0m \u001b[0mitem_total\u001b[0m\u001b[1;33m\u001b[0m\u001b[1;33m\u001b[0m\u001b[0m\n\u001b[0m\u001b[0;32m     22\u001b[0m     \u001b[0mprint\u001b[0m \u001b[1;33m(\u001b[0m\u001b[1;34m'%d %s N%.2f Sub_Total N%2.f'\u001b[0m \u001b[1;33m%\u001b[0m \u001b[1;33m(\u001b[0m\u001b[0mitem\u001b[0m\u001b[1;33m[\u001b[0m\u001b[1;34m'number'\u001b[0m\u001b[1;33m]\u001b[0m\u001b[1;33m,\u001b[0m \u001b[0mitem\u001b[0m\u001b[1;33m[\u001b[0m\u001b[1;34m'name'\u001b[0m\u001b[1;33m]\u001b[0m\u001b[1;33m,\u001b[0m \u001b[0mitem\u001b[0m\u001b[1;33m[\u001b[0m\u001b[1;34m'price'\u001b[0m\u001b[1;33m]\u001b[0m\u001b[1;33m,\u001b[0m \u001b[0mitem_total\u001b[0m\u001b[1;33m)\u001b[0m\u001b[1;33m)\u001b[0m\u001b[1;33m\u001b[0m\u001b[1;33m\u001b[0m\u001b[0m\n\u001b[0;32m     23\u001b[0m     \u001b[0mitem_total\u001b[0m \u001b[1;33m=\u001b[0m \u001b[1;36m0\u001b[0m\u001b[1;33m\u001b[0m\u001b[1;33m\u001b[0m\u001b[0m\n",
      "\u001b[1;31mNameError\u001b[0m: name 'grand_total' is not defined"
     ]
    }
   ],
   "source": [
    "print (\"WELCOME TO AJ PHARMARCY\")\n",
    "Drug_item = {} # Python Dictionary\n",
    "Drug_history =[]  # Python list\n",
    "\n",
    "stop = False\n",
    "\n",
    "while not stop:\n",
    "    Drug_name = input (\"Drug name:\\n\")\n",
    "    quantity = input (\"Quantity purchased:\\n\")\n",
    "    cost = input (\"Price per Drug:\\n\")\n",
    "    Medicine_name = {'name': Drug_name, 'number': int(quantity), 'price': float (cost)}\n",
    "    Drug_history.append(Medicine_name)\n",
    "    user_input = input (\"Would you like to enter another Drug?\\nType 'c' for continue or 'q' to quit:\\n\")\n",
    "    if user_input =='q':\n",
    "     stop = True\n",
    "    \n",
    "Grand_total = 0\n",
    "\n",
    "for index, item in enumerate(Drug_history):\n",
    "    item_total = item ['number'] * item ['price']\n",
    "    Grand_total = grand_total + item_total\n",
    "    print ('%d %s N%.2f Sub_Total N%2.f' % (item['number'], item['name'], item['price'], item_total))\n",
    "    item_total = 0\n",
    "print('Grand_total: N.2f' % Grand_total) "
   ]
  },
  {
   "cell_type": "code",
   "execution_count": null,
   "id": "056a0759",
   "metadata": {},
   "outputs": [],
   "source": []
  },
  {
   "cell_type": "code",
   "execution_count": null,
   "id": "1815753f",
   "metadata": {},
   "outputs": [],
   "source": []
  },
  {
   "cell_type": "code",
   "execution_count": null,
   "id": "9f169261",
   "metadata": {},
   "outputs": [],
   "source": []
  }
 ],
 "metadata": {
  "kernelspec": {
   "display_name": "Python 3 (ipykernel)",
   "language": "python",
   "name": "python3"
  },
  "language_info": {
   "codemirror_mode": {
    "name": "ipython",
    "version": 3
   },
   "file_extension": ".py",
   "mimetype": "text/x-python",
   "name": "python",
   "nbconvert_exporter": "python",
   "pygments_lexer": "ipython3",
   "version": "3.9.7"
  }
 },
 "nbformat": 4,
 "nbformat_minor": 5
}
